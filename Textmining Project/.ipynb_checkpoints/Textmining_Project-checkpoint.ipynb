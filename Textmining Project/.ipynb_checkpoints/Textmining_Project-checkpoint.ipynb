{
 "cells": [
  {
   "cell_type": "markdown",
   "metadata": {
    "id": "rK6yGQTqSg_j"
   },
   "source": [
    "### **Wgrywanie plików i przygotowanie notatnika**"
   ]
  },
  {
   "cell_type": "code",
   "execution_count": 2,
   "metadata": {
    "colab": {
     "base_uri": "https://localhost:8080/",
     "height": 74,
     "resources": {
      "http://localhost:8080/nbextensions/google.colab/files.js": {
       "data": "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",
       "headers": [
        [
         "content-type",
         "application/javascript"
        ]
       ],
       "ok": true,
       "status": 200,
       "status_text": "OK"
      }
     }
    },
    "id": "9dYBKwIvw2iJ",
    "outputId": "1ade159f-72c7-464b-8b08-6dd2c736bd6c"
   },
   "outputs": [
    {
     "data": {
      "text/html": [
       "\n",
       "     <input type=\"file\" id=\"files-8c11e278-e15d-4730-9583-c04a1c0ed871\" name=\"files[]\" multiple disabled\n",
       "        style=\"border:none\" />\n",
       "     <output id=\"result-8c11e278-e15d-4730-9583-c04a1c0ed871\">\n",
       "      Upload widget is only available when the cell has been executed in the\n",
       "      current browser session. Please rerun this cell to enable.\n",
       "      </output>\n",
       "      <script src=\"/nbextensions/google.colab/files.js\"></script> "
      ],
      "text/plain": [
       "<IPython.core.display.HTML object>"
      ]
     },
     "metadata": {
      "tags": []
     },
     "output_type": "display_data"
    },
    {
     "name": "stdout",
     "output_type": "stream",
     "text": [
      "Saving comment_body_before.csv to comment_body_before.csv\n"
     ]
    }
   ],
   "source": [
    "from google.colab import files\n",
    "\n",
    "uploaded = files.upload()"
   ]
  },
  {
   "cell_type": "code",
   "execution_count": 3,
   "metadata": {
    "colab": {
     "base_uri": "https://localhost:8080/",
     "height": 74,
     "resources": {
      "http://localhost:8080/nbextensions/google.colab/files.js": {
       "data": "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",
       "headers": [
        [
         "content-type",
         "application/javascript"
        ]
       ],
       "ok": true,
       "status": 200,
       "status_text": "OK"
      }
     }
    },
    "id": "GKXhV0gu5lEz",
    "outputId": "b3815ba8-0322-4cf9-cbb0-2c32d5f4ff35"
   },
   "outputs": [
    {
     "data": {
      "text/html": [
       "\n",
       "     <input type=\"file\" id=\"files-d8d47af0-70fa-4014-ab3c-ae1e150b97df\" name=\"files[]\" multiple disabled\n",
       "        style=\"border:none\" />\n",
       "     <output id=\"result-d8d47af0-70fa-4014-ab3c-ae1e150b97df\">\n",
       "      Upload widget is only available when the cell has been executed in the\n",
       "      current browser session. Please rerun this cell to enable.\n",
       "      </output>\n",
       "      <script src=\"/nbextensions/google.colab/files.js\"></script> "
      ],
      "text/plain": [
       "<IPython.core.display.HTML object>"
      ]
     },
     "metadata": {
      "tags": []
     },
     "output_type": "display_data"
    },
    {
     "name": "stdout",
     "output_type": "stream",
     "text": [
      "Saving comment_body_after.csv to comment_body_after.csv\n"
     ]
    }
   ],
   "source": [
    "from google.colab import files\n",
    "\n",
    "uploaded = files.upload()"
   ]
  },
  {
   "cell_type": "code",
   "execution_count": 28,
   "metadata": {
    "id": "3vAMyUR7xHfX"
   },
   "outputs": [],
   "source": [
    "import pandas as pd\n",
    "import numpy as np\n",
    "import spacy\n",
    "# # !python -m spacy download en_core_web_lg\n",
    "# nlp = spacy.load('en_core_web_lg')"
   ]
  },
  {
   "cell_type": "code",
   "execution_count": 4,
   "metadata": {
    "id": "bt5RlUTMzLyh"
   },
   "outputs": [],
   "source": [
    "nlp.max_length = 1000000"
   ]
  },
  {
   "cell_type": "code",
   "execution_count": 5,
   "metadata": {
    "id": "-vLkTgRzxbYU"
   },
   "outputs": [],
   "source": [
    "with open(\"comment_body_before.csv\", \"r\", encoding = \"utf-8\") as file:\n",
    "    doc_before = file.read()\n",
    "\n",
    "with open(\"comment_body_after.csv\", \"r\", encoding = \"utf-8\") as file:\n",
    "    doc_after = file.read()"
   ]
  },
  {
   "cell_type": "code",
   "execution_count": 8,
   "metadata": {
    "id": "_YJbDo2DE97E"
   },
   "outputs": [],
   "source": [
    "nlp_doc_before = nlp(doc_before)\n",
    "nlp_doc_after = nlp(doc_after)"
   ]
  },
  {
   "cell_type": "code",
   "execution_count": 6,
   "metadata": {
    "colab": {
     "base_uri": "https://localhost:8080/"
    },
    "id": "cRWIyleHzCkb",
    "outputId": "b95d8f21-8d06-4e7f-f925-a77bb1a859fb"
   },
   "outputs": [
    {
     "name": "stdout",
     "output_type": "stream",
     "text": [
      "169544\n",
      "192742\n"
     ]
    }
   ],
   "source": [
    "# Sprawdzanie ilości tokenów\n",
    "print(len(nlp(doc_before)))\n",
    "print(len(nlp(doc_after)))"
   ]
  },
  {
   "cell_type": "markdown",
   "metadata": {
    "id": "Q_o-bkeWcmYD"
   },
   "source": [
    "### **ANALIZA PIERWSZEGO ZBIORU**"
   ]
  },
  {
   "cell_type": "markdown",
   "metadata": {
    "id": "oK9pck2TUmTi"
   },
   "source": [
    "### **Tokenizacja i Lematyzacja**"
   ]
  },
  {
   "cell_type": "code",
   "execution_count": 123,
   "metadata": {
    "id": "hq454KAczDfi"
   },
   "outputs": [],
   "source": [
    "# Utworzenie list z tokenami i ich własnościami\n",
    "doc_before_token = [str(token.text) for token in nlp_doc_before]\n",
    "doc_before_token_lemma = [str(token.lemma_) for token in nlp_doc_before]\n",
    "doc_before_token_pos = [str(token.pos_) for token in nlp_doc_before]\n",
    "doc_before_token_dep = [str(token.dep_) for token in nlp_doc_before]"
   ]
  },
  {
   "cell_type": "code",
   "execution_count": 132,
   "metadata": {
    "id": "lXNutM4Pzhuz"
   },
   "outputs": [],
   "source": [
    "# Utworzenie tabeli\n",
    "doc_before_df_token = pd.DataFrame(list(\n",
    "    zip(\n",
    "        doc_before_token,\n",
    "        doc_before_token_lemma,\n",
    "        doc_before_token_pos,\n",
    "        doc_before_token_dep)),\n",
    "        columns = [\"Token\", \"Lemma\", \"Token_Pos\", \"Token_Dep\"])"
   ]
  },
  {
   "cell_type": "code",
   "execution_count": 145,
   "metadata": {
    "id": "xAT0knoQGNW9"
   },
   "outputs": [],
   "source": [
    "# Wyrzucenie enterów\n",
    "doc_before_df_token = doc_before_df_token[doc_before_df_token.Token != \"\\n\"]\n",
    "\n",
    "# Usunięcie nagłówka z zaczytanego pliku\n",
    "doc_before_df_token = doc_before_df_token.drop([0])"
   ]
  },
  {
   "cell_type": "code",
   "execution_count": 146,
   "metadata": {
    "colab": {
     "base_uri": "https://localhost:8080/",
     "height": 424
    },
    "id": "tLjqGqSGQ9l8",
    "outputId": "ca954fb5-7ad2-4bbb-a8a3-b86459abb799"
   },
   "outputs": [
    {
     "data": {
      "text/html": [
       "<div>\n",
       "<style scoped>\n",
       "    .dataframe tbody tr th:only-of-type {\n",
       "        vertical-align: middle;\n",
       "    }\n",
       "\n",
       "    .dataframe tbody tr th {\n",
       "        vertical-align: top;\n",
       "    }\n",
       "\n",
       "    .dataframe thead th {\n",
       "        text-align: right;\n",
       "    }\n",
       "</style>\n",
       "<table border=\"1\" class=\"dataframe\">\n",
       "  <thead>\n",
       "    <tr style=\"text-align: right;\">\n",
       "      <th></th>\n",
       "      <th>Token</th>\n",
       "      <th>Lemma</th>\n",
       "      <th>Token_Pos</th>\n",
       "      <th>Token_Dep</th>\n",
       "    </tr>\n",
       "  </thead>\n",
       "  <tbody>\n",
       "    <tr>\n",
       "      <th>2</th>\n",
       "      <td>I</td>\n",
       "      <td>-PRON-</td>\n",
       "      <td>PRON</td>\n",
       "      <td>nsubj</td>\n",
       "    </tr>\n",
       "    <tr>\n",
       "      <th>3</th>\n",
       "      <td>'m</td>\n",
       "      <td>be</td>\n",
       "      <td>AUX</td>\n",
       "      <td>ROOT</td>\n",
       "    </tr>\n",
       "    <tr>\n",
       "      <th>4</th>\n",
       "      <td>pretty</td>\n",
       "      <td>pretty</td>\n",
       "      <td>ADV</td>\n",
       "      <td>advmod</td>\n",
       "    </tr>\n",
       "    <tr>\n",
       "      <th>5</th>\n",
       "      <td>sure</td>\n",
       "      <td>sure</td>\n",
       "      <td>ADJ</td>\n",
       "      <td>acomp</td>\n",
       "    </tr>\n",
       "    <tr>\n",
       "      <th>6</th>\n",
       "      <td>there</td>\n",
       "      <td>there</td>\n",
       "      <td>PRON</td>\n",
       "      <td>expl</td>\n",
       "    </tr>\n",
       "    <tr>\n",
       "      <th>...</th>\n",
       "      <td>...</td>\n",
       "      <td>...</td>\n",
       "      <td>...</td>\n",
       "      <td>...</td>\n",
       "    </tr>\n",
       "    <tr>\n",
       "      <th>169538</th>\n",
       "      <td>the</td>\n",
       "      <td>the</td>\n",
       "      <td>DET</td>\n",
       "      <td>det</td>\n",
       "    </tr>\n",
       "    <tr>\n",
       "      <th>169539</th>\n",
       "      <td>combat</td>\n",
       "      <td>combat</td>\n",
       "      <td>NOUN</td>\n",
       "      <td>nsubj</td>\n",
       "    </tr>\n",
       "    <tr>\n",
       "      <th>169540</th>\n",
       "      <td>a</td>\n",
       "      <td>a</td>\n",
       "      <td>DET</td>\n",
       "      <td>det</td>\n",
       "    </tr>\n",
       "    <tr>\n",
       "      <th>169541</th>\n",
       "      <td>joke</td>\n",
       "      <td>joke</td>\n",
       "      <td>NOUN</td>\n",
       "      <td>ccomp</td>\n",
       "    </tr>\n",
       "    <tr>\n",
       "      <th>169542</th>\n",
       "      <td>\"</td>\n",
       "      <td>\"</td>\n",
       "      <td>PUNCT</td>\n",
       "      <td>punct</td>\n",
       "    </tr>\n",
       "  </tbody>\n",
       "</table>\n",
       "<p>164395 rows × 4 columns</p>\n",
       "</div>"
      ],
      "text/plain": [
       "         Token   Lemma Token_Pos Token_Dep\n",
       "2            I  -PRON-      PRON     nsubj\n",
       "3           'm      be       AUX      ROOT\n",
       "4       pretty  pretty       ADV    advmod\n",
       "5         sure    sure       ADJ     acomp\n",
       "6        there   there      PRON      expl\n",
       "...        ...     ...       ...       ...\n",
       "169538     the     the       DET       det\n",
       "169539  combat  combat      NOUN     nsubj\n",
       "169540       a       a       DET       det\n",
       "169541    joke    joke      NOUN     ccomp\n",
       "169542       \"       \"     PUNCT     punct\n",
       "\n",
       "[164395 rows x 4 columns]"
      ]
     },
     "execution_count": 146,
     "metadata": {
      "tags": []
     },
     "output_type": "execute_result"
    }
   ],
   "source": [
    "doc_before_df_token"
   ]
  },
  {
   "cell_type": "code",
   "execution_count": 57,
   "metadata": {
    "id": "6Ezn8CF3GQSz"
   },
   "outputs": [],
   "source": [
    "# Stworzenie pliku excel do łatwiejszego przeglądania treści\n",
    "writer = pd.ExcelWriter(\"doc_before_df_token.xlsx\")\n",
    "doc_before_df_token.to_excel(writer, index = False)\n",
    "writer.save()"
   ]
  },
  {
   "cell_type": "code",
   "execution_count": null,
   "metadata": {
    "id": "QswLtIfCHoMU"
   },
   "outputs": [],
   "source": [
    "files.download(\"doc_before_df_token.xlsx\")"
   ]
  },
  {
   "cell_type": "code",
   "execution_count": 147,
   "metadata": {
    "colab": {
     "base_uri": "https://localhost:8080/"
    },
    "id": "p2OA6WJjIW78",
    "outputId": "ea80e7cc-6fe4-4b48-cb45-750e3ef4958a"
   },
   "outputs": [
    {
     "data": {
      "text/plain": [
       "Token      Lemma    Token_Pos  Token_Dep\n",
       "the        the      DET        det          4906\n",
       "I          -PRON-   PRON       nsubj        3832\n",
       "a          a        DET        det          3025\n",
       "and        and      CCONJ      cc           2569\n",
       "to         to       PART       aux          2473\n",
       "                                            ... \n",
       "factoring  factor   VERB       advcl           1\n",
       "factories  factory  NOUN       dobj            1\n",
       "factor     factor   VERB       advcl           1\n",
       "                    NOUN       nsubj           1\n",
       "squad      squad    NOUN       ROOT            1\n",
       "Length: 26359, dtype: int64"
      ]
     },
     "execution_count": 147,
     "metadata": {
      "tags": []
     },
     "output_type": "execute_result"
    }
   ],
   "source": [
    "# Sprawdzenie ilości poszczególnych tokenów bez punktów i spacji\n",
    "doc_before_df_token[doc_before_df_token.Token_Pos != \"PUNCT\"].value_counts(ascending = False)"
   ]
  },
  {
   "cell_type": "code",
   "execution_count": 148,
   "metadata": {
    "colab": {
     "base_uri": "https://localhost:8080/",
     "height": 424
    },
    "id": "_zKFtXlaJg-t",
    "outputId": "bd3de8d1-48a3-41de-8e10-4a95bc2e6eb8"
   },
   "outputs": [
    {
     "data": {
      "text/html": [
       "<div>\n",
       "<style scoped>\n",
       "    .dataframe tbody tr th:only-of-type {\n",
       "        vertical-align: middle;\n",
       "    }\n",
       "\n",
       "    .dataframe tbody tr th {\n",
       "        vertical-align: top;\n",
       "    }\n",
       "\n",
       "    .dataframe thead th {\n",
       "        text-align: right;\n",
       "    }\n",
       "</style>\n",
       "<table border=\"1\" class=\"dataframe\">\n",
       "  <thead>\n",
       "    <tr style=\"text-align: right;\">\n",
       "      <th></th>\n",
       "      <th>Token</th>\n",
       "      <th>Lemma</th>\n",
       "      <th>Token_Pos</th>\n",
       "      <th>Token_Dep</th>\n",
       "    </tr>\n",
       "  </thead>\n",
       "  <tbody>\n",
       "    <tr>\n",
       "      <th>112326</th>\n",
       "      <td>\\t</td>\n",
       "      <td>\\t</td>\n",
       "      <td>SPACE</td>\n",
       "      <td></td>\n",
       "    </tr>\n",
       "    <tr>\n",
       "      <th>166386</th>\n",
       "      <td>\\t</td>\n",
       "      <td>\\t</td>\n",
       "      <td>SPACE</td>\n",
       "      <td></td>\n",
       "    </tr>\n",
       "    <tr>\n",
       "      <th>127022</th>\n",
       "      <td>\\n\\n</td>\n",
       "      <td>\\n\\n</td>\n",
       "      <td>SPACE</td>\n",
       "      <td></td>\n",
       "    </tr>\n",
       "    <tr>\n",
       "      <th>122538</th>\n",
       "      <td>\\n\\n</td>\n",
       "      <td>\\n\\n</td>\n",
       "      <td>SPACE</td>\n",
       "      <td></td>\n",
       "    </tr>\n",
       "    <tr>\n",
       "      <th>19167</th>\n",
       "      <td>\\n\\n</td>\n",
       "      <td>\\n\\n</td>\n",
       "      <td>SPACE</td>\n",
       "      <td></td>\n",
       "    </tr>\n",
       "    <tr>\n",
       "      <th>...</th>\n",
       "      <td>...</td>\n",
       "      <td>...</td>\n",
       "      <td>...</td>\n",
       "      <td>...</td>\n",
       "    </tr>\n",
       "    <tr>\n",
       "      <th>3121</th>\n",
       "      <td>🤪</td>\n",
       "      <td>🤪</td>\n",
       "      <td>PROPN</td>\n",
       "      <td>appos</td>\n",
       "    </tr>\n",
       "    <tr>\n",
       "      <th>100944</th>\n",
       "      <td>🤷</td>\n",
       "      <td>🤷</td>\n",
       "      <td>X</td>\n",
       "      <td>punct</td>\n",
       "    </tr>\n",
       "    <tr>\n",
       "      <th>120194</th>\n",
       "      <td>🤷</td>\n",
       "      <td>🤷</td>\n",
       "      <td>X</td>\n",
       "      <td>ROOT</td>\n",
       "    </tr>\n",
       "    <tr>\n",
       "      <th>144067</th>\n",
       "      <td>🥺</td>\n",
       "      <td>🥺</td>\n",
       "      <td>PROPN</td>\n",
       "      <td>punct</td>\n",
       "    </tr>\n",
       "    <tr>\n",
       "      <th>144068</th>\n",
       "      <td>🥺</td>\n",
       "      <td>🥺</td>\n",
       "      <td>PROPN</td>\n",
       "      <td>punct</td>\n",
       "    </tr>\n",
       "  </tbody>\n",
       "</table>\n",
       "<p>142560 rows × 4 columns</p>\n",
       "</div>"
      ],
      "text/plain": [
       "       Token Lemma Token_Pos Token_Dep\n",
       "112326    \\t    \\t     SPACE          \n",
       "166386    \\t    \\t     SPACE          \n",
       "127022  \\n\\n  \\n\\n     SPACE          \n",
       "122538  \\n\\n  \\n\\n     SPACE          \n",
       "19167   \\n\\n  \\n\\n     SPACE          \n",
       "...      ...   ...       ...       ...\n",
       "3121       🤪     🤪     PROPN     appos\n",
       "100944     🤷     🤷         X     punct\n",
       "120194     🤷     🤷         X      ROOT\n",
       "144067     🥺     🥺     PROPN     punct\n",
       "144068     🥺     🥺     PROPN     punct\n",
       "\n",
       "[142560 rows x 4 columns]"
      ]
     },
     "execution_count": 148,
     "metadata": {
      "tags": []
     },
     "output_type": "execute_result"
    }
   ],
   "source": [
    "doc_before_df_token[doc_before_df_token.Token_Pos != \"PUNCT\"].sort_values(by = [\"Lemma\"])"
   ]
  },
  {
   "cell_type": "code",
   "execution_count": 149,
   "metadata": {
    "colab": {
     "base_uri": "https://localhost:8080/",
     "height": 424
    },
    "id": "iRWznmTYOGoc",
    "outputId": "e6ac022b-d3e7-47a1-aed0-56bfef1ce9b8"
   },
   "outputs": [
    {
     "data": {
      "text/html": [
       "<div>\n",
       "<style scoped>\n",
       "    .dataframe tbody tr th:only-of-type {\n",
       "        vertical-align: middle;\n",
       "    }\n",
       "\n",
       "    .dataframe tbody tr th {\n",
       "        vertical-align: top;\n",
       "    }\n",
       "\n",
       "    .dataframe thead th {\n",
       "        text-align: right;\n",
       "    }\n",
       "</style>\n",
       "<table border=\"1\" class=\"dataframe\">\n",
       "  <thead>\n",
       "    <tr style=\"text-align: right;\">\n",
       "      <th></th>\n",
       "      <th>Token</th>\n",
       "      <th>Lemma</th>\n",
       "      <th>Token_Pos</th>\n",
       "      <th>Token_Dep</th>\n",
       "    </tr>\n",
       "  </thead>\n",
       "  <tbody>\n",
       "    <tr>\n",
       "      <th>2</th>\n",
       "      <td>I</td>\n",
       "      <td>-PRON-</td>\n",
       "      <td>PRON</td>\n",
       "      <td>nsubj</td>\n",
       "    </tr>\n",
       "    <tr>\n",
       "      <th>3</th>\n",
       "      <td>'m</td>\n",
       "      <td>be</td>\n",
       "      <td>AUX</td>\n",
       "      <td>ROOT</td>\n",
       "    </tr>\n",
       "    <tr>\n",
       "      <th>4</th>\n",
       "      <td>pretty</td>\n",
       "      <td>pretty</td>\n",
       "      <td>ADV</td>\n",
       "      <td>advmod</td>\n",
       "    </tr>\n",
       "    <tr>\n",
       "      <th>5</th>\n",
       "      <td>sure</td>\n",
       "      <td>sure</td>\n",
       "      <td>ADJ</td>\n",
       "      <td>acomp</td>\n",
       "    </tr>\n",
       "    <tr>\n",
       "      <th>6</th>\n",
       "      <td>there</td>\n",
       "      <td>there</td>\n",
       "      <td>PRON</td>\n",
       "      <td>expl</td>\n",
       "    </tr>\n",
       "    <tr>\n",
       "      <th>...</th>\n",
       "      <td>...</td>\n",
       "      <td>...</td>\n",
       "      <td>...</td>\n",
       "      <td>...</td>\n",
       "    </tr>\n",
       "    <tr>\n",
       "      <th>169538</th>\n",
       "      <td>the</td>\n",
       "      <td>the</td>\n",
       "      <td>DET</td>\n",
       "      <td>det</td>\n",
       "    </tr>\n",
       "    <tr>\n",
       "      <th>169539</th>\n",
       "      <td>combat</td>\n",
       "      <td>combat</td>\n",
       "      <td>NOUN</td>\n",
       "      <td>nsubj</td>\n",
       "    </tr>\n",
       "    <tr>\n",
       "      <th>169540</th>\n",
       "      <td>a</td>\n",
       "      <td>a</td>\n",
       "      <td>DET</td>\n",
       "      <td>det</td>\n",
       "    </tr>\n",
       "    <tr>\n",
       "      <th>169541</th>\n",
       "      <td>joke</td>\n",
       "      <td>joke</td>\n",
       "      <td>NOUN</td>\n",
       "      <td>ccomp</td>\n",
       "    </tr>\n",
       "    <tr>\n",
       "      <th>169542</th>\n",
       "      <td>\"</td>\n",
       "      <td>\"</td>\n",
       "      <td>PUNCT</td>\n",
       "      <td>punct</td>\n",
       "    </tr>\n",
       "  </tbody>\n",
       "</table>\n",
       "<p>162583 rows × 4 columns</p>\n",
       "</div>"
      ],
      "text/plain": [
       "         Token   Lemma Token_Pos Token_Dep\n",
       "2            I  -PRON-      PRON     nsubj\n",
       "3           'm      be       AUX      ROOT\n",
       "4       pretty  pretty       ADV    advmod\n",
       "5         sure    sure       ADJ     acomp\n",
       "6        there   there      PRON      expl\n",
       "...        ...     ...       ...       ...\n",
       "169538     the     the       DET       det\n",
       "169539  combat  combat      NOUN     nsubj\n",
       "169540       a       a       DET       det\n",
       "169541    joke    joke      NOUN     ccomp\n",
       "169542       \"       \"     PUNCT     punct\n",
       "\n",
       "[162583 rows x 4 columns]"
      ]
     },
     "execution_count": 149,
     "metadata": {
      "tags": []
     },
     "output_type": "execute_result"
    }
   ],
   "source": [
    "# Usuwanie kolejnych markdownów typu: \\t, \\n\\n itd.\n",
    "\n",
    "doc_before_df_token[doc_before_df_token.Token_Pos != \"SPACE\"]"
   ]
  },
  {
   "cell_type": "code",
   "execution_count": null,
   "metadata": {
    "id": "5Vo0Tz96OtwV"
   },
   "outputs": [],
   "source": [
    "# Stworzenie nowego pliku excel do łatwiejszego przeglądania treści\n",
    "# doc_before_df_token = doc_before_df_token[doc_before_df_token.Token_Pos != \"SPACE\"]\n",
    "writer = pd.ExcelWriter(\"doc_before_df_token.xlsx\")\n",
    "doc_before_df_token.to_excel(writer, index = False)\n",
    "writer.save()\n",
    "\n",
    "files.download(\"doc_before_df_token.xlsx\")"
   ]
  },
  {
   "cell_type": "markdown",
   "metadata": {
    "id": "B2ilYTtaSELT"
   },
   "source": [
    "### **Nazwy własne**"
   ]
  },
  {
   "cell_type": "code",
   "execution_count": 117,
   "metadata": {
    "id": "_2astJC6Rkdt"
   },
   "outputs": [],
   "source": [
    "# Tworzenie list dla nazw własnych i ich własności\n",
    "doc_before_ent = [str(ent.text) for ent in nlp_doc_before.ents]\n",
    "doc_before_ent_label = [str(ent.label_) for ent in nlp_doc_before.ents]\n",
    "doc_before_ent_explain = [str(spacy.explain(ent.label_)) for ent in nlp_doc_before.ents]"
   ]
  },
  {
   "cell_type": "code",
   "execution_count": 152,
   "metadata": {
    "colab": {
     "base_uri": "https://localhost:8080/",
     "height": 424
    },
    "id": "UIEIU52KTCQd",
    "outputId": "d2e3656a-2669-49f7-d07d-8609ae9f3984"
   },
   "outputs": [
    {
     "data": {
      "text/html": [
       "<div>\n",
       "<style scoped>\n",
       "    .dataframe tbody tr th:only-of-type {\n",
       "        vertical-align: middle;\n",
       "    }\n",
       "\n",
       "    .dataframe tbody tr th {\n",
       "        vertical-align: top;\n",
       "    }\n",
       "\n",
       "    .dataframe thead th {\n",
       "        text-align: right;\n",
       "    }\n",
       "</style>\n",
       "<table border=\"1\" class=\"dataframe\">\n",
       "  <thead>\n",
       "    <tr style=\"text-align: right;\">\n",
       "      <th></th>\n",
       "      <th>Entity</th>\n",
       "      <th>Label</th>\n",
       "      <th>Explain</th>\n",
       "    </tr>\n",
       "  </thead>\n",
       "  <tbody>\n",
       "    <tr>\n",
       "      <th>1</th>\n",
       "      <td>10 years ago</td>\n",
       "      <td>DATE</td>\n",
       "      <td>Absolute or relative dates or periods</td>\n",
       "    </tr>\n",
       "    <tr>\n",
       "      <th>2</th>\n",
       "      <td>8 years old</td>\n",
       "      <td>DATE</td>\n",
       "      <td>Absolute or relative dates or periods</td>\n",
       "    </tr>\n",
       "    <tr>\n",
       "      <th>3</th>\n",
       "      <td>at least 1</td>\n",
       "      <td>CARDINAL</td>\n",
       "      <td>Numerals that do not fall under another type</td>\n",
       "    </tr>\n",
       "    <tr>\n",
       "      <th>4</th>\n",
       "      <td>2</td>\n",
       "      <td>CARDINAL</td>\n",
       "      <td>Numerals that do not fall under another type</td>\n",
       "    </tr>\n",
       "    <tr>\n",
       "      <th>5</th>\n",
       "      <td>a month ago</td>\n",
       "      <td>DATE</td>\n",
       "      <td>Absolute or relative dates or periods</td>\n",
       "    </tr>\n",
       "    <tr>\n",
       "      <th>...</th>\n",
       "      <td>...</td>\n",
       "      <td>...</td>\n",
       "      <td>...</td>\n",
       "    </tr>\n",
       "    <tr>\n",
       "      <th>5929</th>\n",
       "      <td>Xbox</td>\n",
       "      <td>GPE</td>\n",
       "      <td>Countries, cities, states</td>\n",
       "    </tr>\n",
       "    <tr>\n",
       "      <th>5930</th>\n",
       "      <td>Nomad</td>\n",
       "      <td>WORK_OF_ART</td>\n",
       "      <td>Titles of books, songs, etc.</td>\n",
       "    </tr>\n",
       "    <tr>\n",
       "      <th>5931</th>\n",
       "      <td>Night City</td>\n",
       "      <td>GPE</td>\n",
       "      <td>Countries, cities, states</td>\n",
       "    </tr>\n",
       "    <tr>\n",
       "      <th>5932</th>\n",
       "      <td>first</td>\n",
       "      <td>ORDINAL</td>\n",
       "      <td>\"first\", \"second\", etc.</td>\n",
       "    </tr>\n",
       "    <tr>\n",
       "      <th>5933</th>\n",
       "      <td>RDR2\\n\\n</td>\n",
       "      <td>ORG</td>\n",
       "      <td>Companies, agencies, institutions, etc.</td>\n",
       "    </tr>\n",
       "  </tbody>\n",
       "</table>\n",
       "<p>5933 rows × 3 columns</p>\n",
       "</div>"
      ],
      "text/plain": [
       "            Entity        Label                                       Explain\n",
       "1     10 years ago         DATE         Absolute or relative dates or periods\n",
       "2      8 years old         DATE         Absolute or relative dates or periods\n",
       "3       at least 1     CARDINAL  Numerals that do not fall under another type\n",
       "4                2     CARDINAL  Numerals that do not fall under another type\n",
       "5      a month ago         DATE         Absolute or relative dates or periods\n",
       "...            ...          ...                                           ...\n",
       "5929          Xbox          GPE                     Countries, cities, states\n",
       "5930         Nomad  WORK_OF_ART                  Titles of books, songs, etc.\n",
       "5931    Night City          GPE                     Countries, cities, states\n",
       "5932         first      ORDINAL                       \"first\", \"second\", etc.\n",
       "5933      RDR2\\n\\n          ORG       Companies, agencies, institutions, etc.\n",
       "\n",
       "[5933 rows x 3 columns]"
      ]
     },
     "execution_count": 152,
     "metadata": {
      "tags": []
     },
     "output_type": "execute_result"
    }
   ],
   "source": [
    "# Stworzenie tabeli\n",
    "doc_before_ent_table = pd.DataFrame(list(zip(\n",
    "    doc_before_ent,\n",
    "    doc_before_ent_label,\n",
    "    doc_before_ent_explain)),\n",
    "    columns = [\"Entity\", \"Label\", \"Explain\"])\n",
    "\n",
    "doc_before_ent_table = doc_before_ent_table.drop([0])\n",
    "doc_before_ent_table"
   ]
  },
  {
   "cell_type": "markdown",
   "metadata": {
    "id": "Aigl-aywYqfT"
   },
   "source": [
    "### **Noun chunks**"
   ]
  },
  {
   "cell_type": "code",
   "execution_count": 138,
   "metadata": {
    "id": "sVhPPSoyYpgU"
   },
   "outputs": [],
   "source": [
    "# Tworzenie list dla nazw własnych i ich własności\n",
    "doc_before_chunk = [str(chunk.text) for chunk in nlp_doc_before.noun_chunks]\n",
    "doc_before_chunk_root = [str(chunk.root.text) for chunk in nlp_doc_before.noun_chunks]\n",
    "doc_before_root_dep = [str(chunk.root.dep_) for chunk in nlp_doc_before.noun_chunks]"
   ]
  },
  {
   "cell_type": "code",
   "execution_count": 153,
   "metadata": {
    "colab": {
     "base_uri": "https://localhost:8080/",
     "height": 424
    },
    "id": "0azhUhhOZaZD",
    "outputId": "978870e9-0d91-4377-8db8-2cab15874c62"
   },
   "outputs": [
    {
     "data": {
      "text/html": [
       "<div>\n",
       "<style scoped>\n",
       "    .dataframe tbody tr th:only-of-type {\n",
       "        vertical-align: middle;\n",
       "    }\n",
       "\n",
       "    .dataframe tbody tr th {\n",
       "        vertical-align: top;\n",
       "    }\n",
       "\n",
       "    .dataframe thead th {\n",
       "        text-align: right;\n",
       "    }\n",
       "</style>\n",
       "<table border=\"1\" class=\"dataframe\">\n",
       "  <thead>\n",
       "    <tr style=\"text-align: right;\">\n",
       "      <th></th>\n",
       "      <th>Chunk</th>\n",
       "      <th>Root</th>\n",
       "      <th>Root_dep</th>\n",
       "    </tr>\n",
       "  </thead>\n",
       "  <tbody>\n",
       "    <tr>\n",
       "      <th>1</th>\n",
       "      <td>I</td>\n",
       "      <td>I</td>\n",
       "      <td>nsubj</td>\n",
       "    </tr>\n",
       "    <tr>\n",
       "      <th>2</th>\n",
       "      <td>story branches</td>\n",
       "      <td>branches</td>\n",
       "      <td>attr</td>\n",
       "    </tr>\n",
       "    <tr>\n",
       "      <th>3</th>\n",
       "      <td>he</td>\n",
       "      <td>he</td>\n",
       "      <td>nsubj</td>\n",
       "    </tr>\n",
       "    <tr>\n",
       "      <th>4</th>\n",
       "      <td>I</td>\n",
       "      <td>I</td>\n",
       "      <td>nsubj</td>\n",
       "    </tr>\n",
       "    <tr>\n",
       "      <th>5</th>\n",
       "      <td>the future</td>\n",
       "      <td>future</td>\n",
       "      <td>nsubj</td>\n",
       "    </tr>\n",
       "    <tr>\n",
       "      <th>...</th>\n",
       "      <td>...</td>\n",
       "      <td>...</td>\n",
       "      <td>...</td>\n",
       "    </tr>\n",
       "    <tr>\n",
       "      <th>36163</th>\n",
       "      <td>it</td>\n",
       "      <td>it</td>\n",
       "      <td>pobj</td>\n",
       "    </tr>\n",
       "    <tr>\n",
       "      <th>36164</th>\n",
       "      <td>RDR2</td>\n",
       "      <td>RDR2</td>\n",
       "      <td>ROOT</td>\n",
       "    </tr>\n",
       "    <tr>\n",
       "      <th>36165</th>\n",
       "      <td>Dead Eye</td>\n",
       "      <td>Eye</td>\n",
       "      <td>nsubjpass</td>\n",
       "    </tr>\n",
       "    <tr>\n",
       "      <th>36166</th>\n",
       "      <td>that game</td>\n",
       "      <td>game</td>\n",
       "      <td>pobj</td>\n",
       "    </tr>\n",
       "    <tr>\n",
       "      <th>36167</th>\n",
       "      <td>the combat</td>\n",
       "      <td>combat</td>\n",
       "      <td>nsubj</td>\n",
       "    </tr>\n",
       "  </tbody>\n",
       "</table>\n",
       "<p>36167 rows × 3 columns</p>\n",
       "</div>"
      ],
      "text/plain": [
       "                Chunk      Root   Root_dep\n",
       "1                   I         I      nsubj\n",
       "2      story branches  branches       attr\n",
       "3                  he        he      nsubj\n",
       "4                   I         I      nsubj\n",
       "5          the future    future      nsubj\n",
       "...               ...       ...        ...\n",
       "36163              it        it       pobj\n",
       "36164            RDR2      RDR2       ROOT\n",
       "36165        Dead Eye       Eye  nsubjpass\n",
       "36166       that game      game       pobj\n",
       "36167      the combat    combat      nsubj\n",
       "\n",
       "[36167 rows x 3 columns]"
      ]
     },
     "execution_count": 153,
     "metadata": {
      "tags": []
     },
     "output_type": "execute_result"
    }
   ],
   "source": [
    "# Tworzenie tabeli\n",
    "doc_before_chunk_table = pd.DataFrame(list(zip(\n",
    "    doc_before_chunk,\n",
    "    doc_before_chunk_root,\n",
    "    doc_before_root_dep)),\n",
    "    columns = [\"Chunk\", \"Root\", \"Root_dep\"])\n",
    "\n",
    "doc_before_chunk_table = doc_before_chunk_table.drop([0])\n",
    "doc_before_chunk_table"
   ]
  },
  {
   "cell_type": "markdown",
   "metadata": {
    "id": "APD4R5slU07j"
   },
   "source": [
    "### **Statystyki**"
   ]
  },
  {
   "cell_type": "code",
   "execution_count": 162,
   "metadata": {
    "colab": {
     "base_uri": "https://localhost:8080/"
    },
    "id": "8iAg3u-nUBzt",
    "outputId": "8f92747f-77b3-4e18-bfa8-41ea3187573f"
   },
   "outputs": [
    {
     "name": "stdout",
     "output_type": "stream",
     "text": [
      "Liczba unikatowych  Tokenów: 12345,\n",
      "\n",
      "Liczba unikatowych Lematów: 9345,\n",
      "\n",
      "Liczba unikatowych  Nazw własnych: 2909,\n",
      "\n",
      "Liczba unikatowych  Chunków: 14505,\n",
      "\n",
      "Liczba Części mowy: \n",
      "NOUN     24220\n",
      "PUNCT    21835\n",
      "VERB     20424\n",
      "DET      15336\n",
      "PRON     13626\n",
      "ADP      11680\n",
      "ADV      10705\n",
      "AUX      10244\n",
      "ADJ      10086\n",
      "PROPN     5857\n",
      "PART      5198\n",
      "CCONJ     4601\n",
      "SCONJ     3523\n",
      "NUM       2886\n",
      "SPACE     1812\n",
      "INTJ      1408\n",
      "SYM        579\n",
      "X          375\n",
      "Name: Token_Pos, dtype: int64\n"
     ]
    }
   ],
   "source": [
    "print(f\"\"\"Liczba unikatowych  Tokenów: {doc_before_df_token[\"Token\"].nunique()},\\n\n",
    "Liczba unikatowych Lematów: {doc_before_df_token[\"Lemma\"].nunique()},\\n\n",
    "Liczba unikatowych  Nazw własnych: {doc_before_ent_table[\"Entity\"].nunique()},\\n\n",
    "Liczba unikatowych  Chunków: {doc_before_chunk_table[\"Chunk\"].nunique()},\\n\n",
    "Liczba Części mowy: \n",
    "{doc_before_df_token[\"Token_Pos\"].value_counts()}\"\"\")"
   ]
  },
  {
   "cell_type": "markdown",
   "metadata": {
    "id": "rxndNLJ1cw87"
   },
   "source": [
    "### **ANALIZA DRUGIEGO ZBIORU**"
   ]
  },
  {
   "cell_type": "markdown",
   "metadata": {
    "id": "AfnR7UJOc-rT"
   },
   "source": [
    "### **TOKENIZACJA I LEMATYZACJA**"
   ]
  },
  {
   "cell_type": "code",
   "execution_count": 175,
   "metadata": {
    "id": "b5X8A2w4c9P7"
   },
   "outputs": [],
   "source": [
    "# Utworzenie list z tokenami i ich własnościami\n",
    "doc_after_token = [str(token.text) for token in nlp_doc_after]\n",
    "doc_after_token_lemma = [str(token.lemma_) for token in nlp_doc_after]\n",
    "doc_after_token_pos = [str(token.pos_) for token in nlp_doc_after]\n",
    "doc_after_token_dep = [str(token.dep_) for token in nlp_doc_after]"
   ]
  },
  {
   "cell_type": "code",
   "execution_count": 176,
   "metadata": {
    "id": "CljyM2G2c9P7"
   },
   "outputs": [],
   "source": [
    "# Utworzenie tabeli\n",
    "doc_after_df_token = pd.DataFrame(list(\n",
    "    zip(\n",
    "        doc_after_token,\n",
    "        doc_after_token_lemma,\n",
    "        doc_after_token_pos,\n",
    "        doc_after_token_dep)),\n",
    "        columns = [\"Token\", \"Lemma\", \"Token_Pos\", \"Token_Dep\"])"
   ]
  },
  {
   "cell_type": "code",
   "execution_count": 177,
   "metadata": {
    "id": "tOdOkXU-c9P8"
   },
   "outputs": [],
   "source": [
    "# Wyrzucenie enterów\n",
    "doc_after_df_token = doc_after_df_token[doc_after_df_token.Token != \"\\n\"]\n",
    "\n",
    "# Usunięcie nagłówka z zaczytanego pliku\n",
    "doc_after_df_token = doc_after_df_token.drop([0])"
   ]
  },
  {
   "cell_type": "code",
   "execution_count": 178,
   "metadata": {
    "colab": {
     "base_uri": "https://localhost:8080/",
     "height": 424
    },
    "id": "CqyObrEBezOb",
    "outputId": "53f8ab8b-a437-4157-aeb5-b01a4c41eca0"
   },
   "outputs": [
    {
     "data": {
      "text/html": [
       "<div>\n",
       "<style scoped>\n",
       "    .dataframe tbody tr th:only-of-type {\n",
       "        vertical-align: middle;\n",
       "    }\n",
       "\n",
       "    .dataframe tbody tr th {\n",
       "        vertical-align: top;\n",
       "    }\n",
       "\n",
       "    .dataframe thead th {\n",
       "        text-align: right;\n",
       "    }\n",
       "</style>\n",
       "<table border=\"1\" class=\"dataframe\">\n",
       "  <thead>\n",
       "    <tr style=\"text-align: right;\">\n",
       "      <th></th>\n",
       "      <th>Token</th>\n",
       "      <th>Lemma</th>\n",
       "      <th>Token_Pos</th>\n",
       "      <th>Token_Dep</th>\n",
       "    </tr>\n",
       "  </thead>\n",
       "  <tbody>\n",
       "    <tr>\n",
       "      <th>2</th>\n",
       "      <td>\"</td>\n",
       "      <td>\"</td>\n",
       "      <td>PUNCT</td>\n",
       "      <td>punct</td>\n",
       "    </tr>\n",
       "    <tr>\n",
       "      <th>3</th>\n",
       "      <td>It</td>\n",
       "      <td>-PRON-</td>\n",
       "      <td>PRON</td>\n",
       "      <td>nsubj</td>\n",
       "    </tr>\n",
       "    <tr>\n",
       "      <th>4</th>\n",
       "      <td>sure</td>\n",
       "      <td>sure</td>\n",
       "      <td>ADV</td>\n",
       "      <td>advmod</td>\n",
       "    </tr>\n",
       "    <tr>\n",
       "      <th>5</th>\n",
       "      <td>feels</td>\n",
       "      <td>feel</td>\n",
       "      <td>VERB</td>\n",
       "      <td>ROOT</td>\n",
       "    </tr>\n",
       "    <tr>\n",
       "      <th>6</th>\n",
       "      <td>that</td>\n",
       "      <td>that</td>\n",
       "      <td>DET</td>\n",
       "      <td>det</td>\n",
       "    </tr>\n",
       "    <tr>\n",
       "      <th>...</th>\n",
       "      <td>...</td>\n",
       "      <td>...</td>\n",
       "      <td>...</td>\n",
       "      <td>...</td>\n",
       "    </tr>\n",
       "    <tr>\n",
       "      <th>192736</th>\n",
       "      <td>'s</td>\n",
       "      <td>-PRON-</td>\n",
       "      <td>PRON</td>\n",
       "      <td>nsubj</td>\n",
       "    </tr>\n",
       "    <tr>\n",
       "      <th>192737</th>\n",
       "      <td>be</td>\n",
       "      <td>be</td>\n",
       "      <td>AUX</td>\n",
       "      <td>ccomp</td>\n",
       "    </tr>\n",
       "    <tr>\n",
       "      <th>192738</th>\n",
       "      <td>honest</td>\n",
       "      <td>honest</td>\n",
       "      <td>ADJ</td>\n",
       "      <td>acomp</td>\n",
       "    </tr>\n",
       "    <tr>\n",
       "      <th>192739</th>\n",
       "      <td>now</td>\n",
       "      <td>now</td>\n",
       "      <td>ADV</td>\n",
       "      <td>advmod</td>\n",
       "    </tr>\n",
       "    <tr>\n",
       "      <th>192740</th>\n",
       "      <td>\"</td>\n",
       "      <td>\"</td>\n",
       "      <td>PUNCT</td>\n",
       "      <td>punct</td>\n",
       "    </tr>\n",
       "  </tbody>\n",
       "</table>\n",
       "<p>187550 rows × 4 columns</p>\n",
       "</div>"
      ],
      "text/plain": [
       "         Token   Lemma Token_Pos Token_Dep\n",
       "2            \"       \"     PUNCT     punct\n",
       "3           It  -PRON-      PRON     nsubj\n",
       "4         sure    sure       ADV    advmod\n",
       "5        feels    feel      VERB      ROOT\n",
       "6         that    that       DET       det\n",
       "...        ...     ...       ...       ...\n",
       "192736      's  -PRON-      PRON     nsubj\n",
       "192737      be      be       AUX     ccomp\n",
       "192738  honest  honest       ADJ     acomp\n",
       "192739     now     now       ADV    advmod\n",
       "192740       \"       \"     PUNCT     punct\n",
       "\n",
       "[187550 rows x 4 columns]"
      ]
     },
     "execution_count": 178,
     "metadata": {
      "tags": []
     },
     "output_type": "execute_result"
    }
   ],
   "source": [
    "doc_after_df_token"
   ]
  },
  {
   "cell_type": "code",
   "execution_count": 179,
   "metadata": {
    "id": "N9U1LFt2ezOe"
   },
   "outputs": [],
   "source": [
    "# Stworzenie pliku excel do łatwiejszego przeglądania treści\n",
    "writer = pd.ExcelWriter(\"doc_after_df_token.xlsx\")\n",
    "doc_after_df_token.to_excel(writer, index = False)\n",
    "writer.save()"
   ]
  },
  {
   "cell_type": "code",
   "execution_count": null,
   "metadata": {
    "id": "mVxbctm8ezOf"
   },
   "outputs": [],
   "source": [
    "files.download(\"doc_after_df_token.xlsx\")"
   ]
  },
  {
   "cell_type": "code",
   "execution_count": 180,
   "metadata": {
    "colab": {
     "base_uri": "https://localhost:8080/"
    },
    "id": "lS_8jSt1ezOg",
    "outputId": "177687e4-b29d-4f9f-84f3-8d4253e7a69e"
   },
   "outputs": [
    {
     "data": {
      "text/plain": [
       "Token    Lemma    Token_Pos  Token_Dep\n",
       "the      the      DET        det          6152\n",
       "I        -PRON-   PRON       nsubj        3837\n",
       "a        a        DET        det          3332\n",
       "and      and      CCONJ      cc           3113\n",
       "to       to       PART       aux          2483\n",
       "                                          ... \n",
       "kx67vr   kx67vr   PROPN      nmod            1\n",
       "kyqegw   kyqegw   PROPN      appos           1\n",
       "l68rms   l68rms   PROPN      nmod            1\n",
       "                             pobj            1\n",
       "generic  generic  ADJ        dobj            1\n",
       "Length: 29527, dtype: int64"
      ]
     },
     "execution_count": 180,
     "metadata": {
      "tags": []
     },
     "output_type": "execute_result"
    }
   ],
   "source": [
    "# Sprawdzenie ilości poszczególnych tokenów bez punktów i spacji\n",
    "doc_after_df_token[doc_after_df_token.Token_Pos != \"PUNCT\"].value_counts(ascending = False)"
   ]
  },
  {
   "cell_type": "code",
   "execution_count": 181,
   "metadata": {
    "colab": {
     "base_uri": "https://localhost:8080/",
     "height": 424
    },
    "id": "A3FBygL8ezOh",
    "outputId": "5c07d769-cc4a-40ee-dd89-a8201dae4d95"
   },
   "outputs": [
    {
     "data": {
      "text/html": [
       "<div>\n",
       "<style scoped>\n",
       "    .dataframe tbody tr th:only-of-type {\n",
       "        vertical-align: middle;\n",
       "    }\n",
       "\n",
       "    .dataframe tbody tr th {\n",
       "        vertical-align: top;\n",
       "    }\n",
       "\n",
       "    .dataframe thead th {\n",
       "        text-align: right;\n",
       "    }\n",
       "</style>\n",
       "<table border=\"1\" class=\"dataframe\">\n",
       "  <thead>\n",
       "    <tr style=\"text-align: right;\">\n",
       "      <th></th>\n",
       "      <th>Token</th>\n",
       "      <th>Lemma</th>\n",
       "      <th>Token_Pos</th>\n",
       "      <th>Token_Dep</th>\n",
       "    </tr>\n",
       "  </thead>\n",
       "  <tbody>\n",
       "    <tr>\n",
       "      <th>12010</th>\n",
       "      <td>\\t</td>\n",
       "      <td>\\t</td>\n",
       "      <td>SPACE</td>\n",
       "      <td></td>\n",
       "    </tr>\n",
       "    <tr>\n",
       "      <th>145657</th>\n",
       "      <td>\\t</td>\n",
       "      <td>\\t</td>\n",
       "      <td>SPACE</td>\n",
       "      <td></td>\n",
       "    </tr>\n",
       "    <tr>\n",
       "      <th>23456</th>\n",
       "      <td>\\t</td>\n",
       "      <td>\\t</td>\n",
       "      <td>SPACE</td>\n",
       "      <td></td>\n",
       "    </tr>\n",
       "    <tr>\n",
       "      <th>145665</th>\n",
       "      <td>\\t</td>\n",
       "      <td>\\t</td>\n",
       "      <td>SPACE</td>\n",
       "      <td></td>\n",
       "    </tr>\n",
       "    <tr>\n",
       "      <th>145671</th>\n",
       "      <td>\\t</td>\n",
       "      <td>\\t</td>\n",
       "      <td>SPACE</td>\n",
       "      <td></td>\n",
       "    </tr>\n",
       "    <tr>\n",
       "      <th>...</th>\n",
       "      <td>...</td>\n",
       "      <td>...</td>\n",
       "      <td>...</td>\n",
       "      <td>...</td>\n",
       "    </tr>\n",
       "    <tr>\n",
       "      <th>128613</th>\n",
       "      <td>🥳</td>\n",
       "      <td>🥳</td>\n",
       "      <td>PROPN</td>\n",
       "      <td>dep</td>\n",
       "    </tr>\n",
       "    <tr>\n",
       "      <th>48576</th>\n",
       "      <td>🥴</td>\n",
       "      <td>🥴</td>\n",
       "      <td>X</td>\n",
       "      <td>ROOT</td>\n",
       "    </tr>\n",
       "    <tr>\n",
       "      <th>12582</th>\n",
       "      <td>🥵</td>\n",
       "      <td>🥵</td>\n",
       "      <td>NOUN</td>\n",
       "      <td>punct</td>\n",
       "    </tr>\n",
       "    <tr>\n",
       "      <th>27245</th>\n",
       "      <td>🥺</td>\n",
       "      <td>🥺</td>\n",
       "      <td>X</td>\n",
       "      <td>punct</td>\n",
       "    </tr>\n",
       "    <tr>\n",
       "      <th>139754</th>\n",
       "      <td>🦾</td>\n",
       "      <td>🦾</td>\n",
       "      <td>NOUN</td>\n",
       "      <td>ROOT</td>\n",
       "    </tr>\n",
       "  </tbody>\n",
       "</table>\n",
       "<p>162561 rows × 4 columns</p>\n",
       "</div>"
      ],
      "text/plain": [
       "       Token Lemma Token_Pos Token_Dep\n",
       "12010     \\t    \\t     SPACE          \n",
       "145657    \\t    \\t     SPACE          \n",
       "23456     \\t    \\t     SPACE          \n",
       "145665    \\t    \\t     SPACE          \n",
       "145671    \\t    \\t     SPACE          \n",
       "...      ...   ...       ...       ...\n",
       "128613     🥳     🥳     PROPN       dep\n",
       "48576      🥴     🥴         X      ROOT\n",
       "12582      🥵     🥵      NOUN     punct\n",
       "27245      🥺     🥺         X     punct\n",
       "139754     🦾     🦾      NOUN      ROOT\n",
       "\n",
       "[162561 rows x 4 columns]"
      ]
     },
     "execution_count": 181,
     "metadata": {
      "tags": []
     },
     "output_type": "execute_result"
    }
   ],
   "source": [
    "doc_after_df_token[doc_after_df_token.Token_Pos != \"PUNCT\"].sort_values(by = [\"Lemma\"])"
   ]
  },
  {
   "cell_type": "code",
   "execution_count": 182,
   "metadata": {
    "colab": {
     "base_uri": "https://localhost:8080/",
     "height": 424
    },
    "id": "nAeKpPymezOh",
    "outputId": "6d750457-5357-4e17-c01f-173f302954fd"
   },
   "outputs": [
    {
     "data": {
      "text/html": [
       "<div>\n",
       "<style scoped>\n",
       "    .dataframe tbody tr th:only-of-type {\n",
       "        vertical-align: middle;\n",
       "    }\n",
       "\n",
       "    .dataframe tbody tr th {\n",
       "        vertical-align: top;\n",
       "    }\n",
       "\n",
       "    .dataframe thead th {\n",
       "        text-align: right;\n",
       "    }\n",
       "</style>\n",
       "<table border=\"1\" class=\"dataframe\">\n",
       "  <thead>\n",
       "    <tr style=\"text-align: right;\">\n",
       "      <th></th>\n",
       "      <th>Token</th>\n",
       "      <th>Lemma</th>\n",
       "      <th>Token_Pos</th>\n",
       "      <th>Token_Dep</th>\n",
       "    </tr>\n",
       "  </thead>\n",
       "  <tbody>\n",
       "    <tr>\n",
       "      <th>2</th>\n",
       "      <td>\"</td>\n",
       "      <td>\"</td>\n",
       "      <td>PUNCT</td>\n",
       "      <td>punct</td>\n",
       "    </tr>\n",
       "    <tr>\n",
       "      <th>3</th>\n",
       "      <td>It</td>\n",
       "      <td>-PRON-</td>\n",
       "      <td>PRON</td>\n",
       "      <td>nsubj</td>\n",
       "    </tr>\n",
       "    <tr>\n",
       "      <th>4</th>\n",
       "      <td>sure</td>\n",
       "      <td>sure</td>\n",
       "      <td>ADV</td>\n",
       "      <td>advmod</td>\n",
       "    </tr>\n",
       "    <tr>\n",
       "      <th>5</th>\n",
       "      <td>feels</td>\n",
       "      <td>feel</td>\n",
       "      <td>VERB</td>\n",
       "      <td>ROOT</td>\n",
       "    </tr>\n",
       "    <tr>\n",
       "      <th>6</th>\n",
       "      <td>that</td>\n",
       "      <td>that</td>\n",
       "      <td>DET</td>\n",
       "      <td>det</td>\n",
       "    </tr>\n",
       "    <tr>\n",
       "      <th>...</th>\n",
       "      <td>...</td>\n",
       "      <td>...</td>\n",
       "      <td>...</td>\n",
       "      <td>...</td>\n",
       "    </tr>\n",
       "    <tr>\n",
       "      <th>192736</th>\n",
       "      <td>'s</td>\n",
       "      <td>-PRON-</td>\n",
       "      <td>PRON</td>\n",
       "      <td>nsubj</td>\n",
       "    </tr>\n",
       "    <tr>\n",
       "      <th>192737</th>\n",
       "      <td>be</td>\n",
       "      <td>be</td>\n",
       "      <td>AUX</td>\n",
       "      <td>ccomp</td>\n",
       "    </tr>\n",
       "    <tr>\n",
       "      <th>192738</th>\n",
       "      <td>honest</td>\n",
       "      <td>honest</td>\n",
       "      <td>ADJ</td>\n",
       "      <td>acomp</td>\n",
       "    </tr>\n",
       "    <tr>\n",
       "      <th>192739</th>\n",
       "      <td>now</td>\n",
       "      <td>now</td>\n",
       "      <td>ADV</td>\n",
       "      <td>advmod</td>\n",
       "    </tr>\n",
       "    <tr>\n",
       "      <th>192740</th>\n",
       "      <td>\"</td>\n",
       "      <td>\"</td>\n",
       "      <td>PUNCT</td>\n",
       "      <td>punct</td>\n",
       "    </tr>\n",
       "  </tbody>\n",
       "</table>\n",
       "<p>185342 rows × 4 columns</p>\n",
       "</div>"
      ],
      "text/plain": [
       "         Token   Lemma Token_Pos Token_Dep\n",
       "2            \"       \"     PUNCT     punct\n",
       "3           It  -PRON-      PRON     nsubj\n",
       "4         sure    sure       ADV    advmod\n",
       "5        feels    feel      VERB      ROOT\n",
       "6         that    that       DET       det\n",
       "...        ...     ...       ...       ...\n",
       "192736      's  -PRON-      PRON     nsubj\n",
       "192737      be      be       AUX     ccomp\n",
       "192738  honest  honest       ADJ     acomp\n",
       "192739     now     now       ADV    advmod\n",
       "192740       \"       \"     PUNCT     punct\n",
       "\n",
       "[185342 rows x 4 columns]"
      ]
     },
     "execution_count": 182,
     "metadata": {
      "tags": []
     },
     "output_type": "execute_result"
    }
   ],
   "source": [
    "# Usuwanie kolejnych markdownów typu: \\t, \\n\\n itd.\n",
    "\n",
    "doc_after_df_token[doc_after_df_token.Token_Pos != \"SPACE\"]"
   ]
  },
  {
   "cell_type": "code",
   "execution_count": null,
   "metadata": {
    "id": "QDKLKSOMezOi"
   },
   "outputs": [],
   "source": [
    "# Stworzenie nowego pliku excel do łatwiejszego przeglądania treści\n",
    "# doc_after_df_token = doc_after_df_token[doc_after_df_token.Token_Pos != \"SPACE\"]\n",
    "writer = pd.ExcelWriter(\"doc_after_df_token.xlsx\")\n",
    "doc_after_df_token.to_excel(writer, index = False)\n",
    "writer.save()\n",
    "\n",
    "files.download(\"doc_after_df_token.xlsx\")"
   ]
  },
  {
   "cell_type": "markdown",
   "metadata": {
    "id": "IZf1tN9dezOi"
   },
   "source": [
    "### **Nazwy własne**"
   ]
  },
  {
   "cell_type": "code",
   "execution_count": 183,
   "metadata": {
    "id": "pIO4ofM7ezOj"
   },
   "outputs": [],
   "source": [
    "# Tworzenie list dla nazw własnych i ich własności\n",
    "doc_after_ent = [str(ent.text) for ent in nlp_doc_after.ents]\n",
    "doc_after_ent_label = [str(ent.label_) for ent in nlp_doc_after.ents]\n",
    "doc_after_ent_explain = [str(spacy.explain(ent.label_)) for ent in nlp_doc_after.ents]"
   ]
  },
  {
   "cell_type": "code",
   "execution_count": 184,
   "metadata": {
    "colab": {
     "base_uri": "https://localhost:8080/",
     "height": 424
    },
    "id": "oo9BcUi9ezOj",
    "outputId": "c65e5a1a-56dd-4c18-e844-3c9e67bf229b"
   },
   "outputs": [
    {
     "data": {
      "text/html": [
       "<div>\n",
       "<style scoped>\n",
       "    .dataframe tbody tr th:only-of-type {\n",
       "        vertical-align: middle;\n",
       "    }\n",
       "\n",
       "    .dataframe tbody tr th {\n",
       "        vertical-align: top;\n",
       "    }\n",
       "\n",
       "    .dataframe thead th {\n",
       "        text-align: right;\n",
       "    }\n",
       "</style>\n",
       "<table border=\"1\" class=\"dataframe\">\n",
       "  <thead>\n",
       "    <tr style=\"text-align: right;\">\n",
       "      <th></th>\n",
       "      <th>Entity</th>\n",
       "      <th>Label</th>\n",
       "      <th>Explain</th>\n",
       "    </tr>\n",
       "  </thead>\n",
       "  <tbody>\n",
       "    <tr>\n",
       "      <th>1</th>\n",
       "      <td>CDPR</td>\n",
       "      <td>ORG</td>\n",
       "      <td>Companies, agencies, institutions, etc.</td>\n",
       "    </tr>\n",
       "    <tr>\n",
       "      <th>2</th>\n",
       "      <td>Gemma</td>\n",
       "      <td>PERSON</td>\n",
       "      <td>People, including fictional</td>\n",
       "    </tr>\n",
       "    <tr>\n",
       "      <th>3</th>\n",
       "      <td>1000</td>\n",
       "      <td>CARDINAL</td>\n",
       "      <td>Numerals that do not fall under another type</td>\n",
       "    </tr>\n",
       "    <tr>\n",
       "      <th>4</th>\n",
       "      <td>Peter griffin</td>\n",
       "      <td>PERSON</td>\n",
       "      <td>People, including fictional</td>\n",
       "    </tr>\n",
       "    <tr>\n",
       "      <th>5</th>\n",
       "      <td>ME3</td>\n",
       "      <td>PERSON</td>\n",
       "      <td>People, including fictional</td>\n",
       "    </tr>\n",
       "    <tr>\n",
       "      <th>...</th>\n",
       "      <td>...</td>\n",
       "      <td>...</td>\n",
       "      <td>...</td>\n",
       "    </tr>\n",
       "    <tr>\n",
       "      <th>5809</th>\n",
       "      <td>2 weeks</td>\n",
       "      <td>DATE</td>\n",
       "      <td>Absolute or relative dates or periods</td>\n",
       "    </tr>\n",
       "    <tr>\n",
       "      <th>5810</th>\n",
       "      <td>Freeking</td>\n",
       "      <td>ORG</td>\n",
       "      <td>Companies, agencies, institutions, etc.</td>\n",
       "    </tr>\n",
       "    <tr>\n",
       "      <th>5811</th>\n",
       "      <td>EU</td>\n",
       "      <td>ORG</td>\n",
       "      <td>Companies, agencies, institutions, etc.</td>\n",
       "    </tr>\n",
       "    <tr>\n",
       "      <th>5812</th>\n",
       "      <td>Aight</td>\n",
       "      <td>PRODUCT</td>\n",
       "      <td>Objects, vehicles, foods, etc. (not services)</td>\n",
       "    </tr>\n",
       "    <tr>\n",
       "      <th>5813</th>\n",
       "      <td>Cyberpunk 2077</td>\n",
       "      <td>EVENT</td>\n",
       "      <td>Named hurricanes, battles, wars, sports events...</td>\n",
       "    </tr>\n",
       "  </tbody>\n",
       "</table>\n",
       "<p>5813 rows × 3 columns</p>\n",
       "</div>"
      ],
      "text/plain": [
       "              Entity  ...                                            Explain\n",
       "1               CDPR  ...            Companies, agencies, institutions, etc.\n",
       "2              Gemma  ...                        People, including fictional\n",
       "3               1000  ...       Numerals that do not fall under another type\n",
       "4      Peter griffin  ...                        People, including fictional\n",
       "5                ME3  ...                        People, including fictional\n",
       "...              ...  ...                                                ...\n",
       "5809         2 weeks  ...              Absolute or relative dates or periods\n",
       "5810        Freeking  ...            Companies, agencies, institutions, etc.\n",
       "5811              EU  ...            Companies, agencies, institutions, etc.\n",
       "5812           Aight  ...      Objects, vehicles, foods, etc. (not services)\n",
       "5813  Cyberpunk 2077  ...  Named hurricanes, battles, wars, sports events...\n",
       "\n",
       "[5813 rows x 3 columns]"
      ]
     },
     "execution_count": 184,
     "metadata": {
      "tags": []
     },
     "output_type": "execute_result"
    }
   ],
   "source": [
    "# Stworzenie tabeli\n",
    "doc_after_ent_table = pd.DataFrame(list(zip(\n",
    "    doc_after_ent,\n",
    "    doc_after_ent_label,\n",
    "    doc_after_ent_explain)),\n",
    "    columns = [\"Entity\", \"Label\", \"Explain\"])\n",
    "\n",
    "doc_after_ent_table = doc_after_ent_table.drop([0])\n",
    "doc_after_ent_table"
   ]
  },
  {
   "cell_type": "markdown",
   "metadata": {
    "id": "0OsaDBIAezOk"
   },
   "source": [
    "### **Noun chunks**"
   ]
  },
  {
   "cell_type": "code",
   "execution_count": 185,
   "metadata": {
    "id": "26jPYvswezOl"
   },
   "outputs": [],
   "source": [
    "# Tworzenie list dla nazw własnych i ich własności\n",
    "doc_after_chunk = [str(chunk.text) for chunk in nlp_doc_after.noun_chunks]\n",
    "doc_after_chunk_root = [str(chunk.root.text) for chunk in nlp_doc_after.noun_chunks]\n",
    "doc_after_root_dep = [str(chunk.root.dep_) for chunk in nlp_doc_after.noun_chunks]"
   ]
  },
  {
   "cell_type": "code",
   "execution_count": 186,
   "metadata": {
    "colab": {
     "base_uri": "https://localhost:8080/",
     "height": 424
    },
    "id": "9BrpYkaEezOl",
    "outputId": "2fb5eb63-caea-4b55-be53-d720dff852da"
   },
   "outputs": [
    {
     "data": {
      "text/html": [
       "<div>\n",
       "<style scoped>\n",
       "    .dataframe tbody tr th:only-of-type {\n",
       "        vertical-align: middle;\n",
       "    }\n",
       "\n",
       "    .dataframe tbody tr th {\n",
       "        vertical-align: top;\n",
       "    }\n",
       "\n",
       "    .dataframe thead th {\n",
       "        text-align: right;\n",
       "    }\n",
       "</style>\n",
       "<table border=\"1\" class=\"dataframe\">\n",
       "  <thead>\n",
       "    <tr style=\"text-align: right;\">\n",
       "      <th></th>\n",
       "      <th>Chunk</th>\n",
       "      <th>Root</th>\n",
       "      <th>Root_dep</th>\n",
       "    </tr>\n",
       "  </thead>\n",
       "  <tbody>\n",
       "    <tr>\n",
       "      <th>1</th>\n",
       "      <td>It</td>\n",
       "      <td>It</td>\n",
       "      <td>nsubj</td>\n",
       "    </tr>\n",
       "    <tr>\n",
       "      <th>2</th>\n",
       "      <td>I</td>\n",
       "      <td>I</td>\n",
       "      <td>nsubj</td>\n",
       "    </tr>\n",
       "    <tr>\n",
       "      <th>3</th>\n",
       "      <td>CDPR</td>\n",
       "      <td>CDPR</td>\n",
       "      <td>nsubj</td>\n",
       "    </tr>\n",
       "    <tr>\n",
       "      <th>4</th>\n",
       "      <td>the wrong version</td>\n",
       "      <td>version</td>\n",
       "      <td>dobj</td>\n",
       "    </tr>\n",
       "    <tr>\n",
       "      <th>5</th>\n",
       "      <td>the game</td>\n",
       "      <td>game</td>\n",
       "      <td>pobj</td>\n",
       "    </tr>\n",
       "    <tr>\n",
       "      <th>...</th>\n",
       "      <td>...</td>\n",
       "      <td>...</td>\n",
       "      <td>...</td>\n",
       "    </tr>\n",
       "    <tr>\n",
       "      <th>41659</th>\n",
       "      <td>the current work</td>\n",
       "      <td>work</td>\n",
       "      <td>pobj</td>\n",
       "    </tr>\n",
       "    <tr>\n",
       "      <th>41660</th>\n",
       "      <td>Cyberpunk</td>\n",
       "      <td>Cyberpunk</td>\n",
       "      <td>dobj</td>\n",
       "    </tr>\n",
       "    <tr>\n",
       "      <th>41661</th>\n",
       "      <td>Delays</td>\n",
       "      <td>Delays</td>\n",
       "      <td>nsubj</td>\n",
       "    </tr>\n",
       "    <tr>\n",
       "      <th>41662</th>\n",
       "      <td>the hack</td>\n",
       "      <td>hack</td>\n",
       "      <td>pobj</td>\n",
       "    </tr>\n",
       "    <tr>\n",
       "      <th>41663</th>\n",
       "      <td>'s</td>\n",
       "      <td>'s</td>\n",
       "      <td>nsubj</td>\n",
       "    </tr>\n",
       "  </tbody>\n",
       "</table>\n",
       "<p>41663 rows × 3 columns</p>\n",
       "</div>"
      ],
      "text/plain": [
       "                   Chunk       Root Root_dep\n",
       "1                     It         It    nsubj\n",
       "2                      I          I    nsubj\n",
       "3                   CDPR       CDPR    nsubj\n",
       "4      the wrong version    version     dobj\n",
       "5               the game       game     pobj\n",
       "...                  ...        ...      ...\n",
       "41659   the current work       work     pobj\n",
       "41660          Cyberpunk  Cyberpunk     dobj\n",
       "41661             Delays     Delays    nsubj\n",
       "41662           the hack       hack     pobj\n",
       "41663                 's         's    nsubj\n",
       "\n",
       "[41663 rows x 3 columns]"
      ]
     },
     "execution_count": 186,
     "metadata": {
      "tags": []
     },
     "output_type": "execute_result"
    }
   ],
   "source": [
    "# Tworzenie tabeli\n",
    "doc_after_chunk_table = pd.DataFrame(list(zip(\n",
    "    doc_after_chunk,\n",
    "    doc_after_chunk_root,\n",
    "    doc_after_root_dep)),\n",
    "    columns = [\"Chunk\", \"Root\", \"Root_dep\"])\n",
    "\n",
    "doc_after_chunk_table = doc_after_chunk_table.drop([0])\n",
    "doc_after_chunk_table"
   ]
  },
  {
   "cell_type": "markdown",
   "metadata": {
    "id": "jSA6B_TWezOm"
   },
   "source": [
    "### **Statystyki**"
   ]
  },
  {
   "cell_type": "code",
   "execution_count": 187,
   "metadata": {
    "colab": {
     "base_uri": "https://localhost:8080/"
    },
    "id": "DWvdzCwdezOm",
    "outputId": "0132133e-2590-4314-9ef0-5da89930f500"
   },
   "outputs": [
    {
     "name": "stdout",
     "output_type": "stream",
     "text": [
      "Liczba unikatowych  Tokenów: 13748,\n",
      "\n",
      "Liczba unikatowych Lematów: 10300,\n",
      "\n",
      "Liczba unikatowych  Nazw własnych: 2615,\n",
      "\n",
      "Liczba unikatowych  Chunków: 16475,\n",
      "\n",
      "Liczba Części mowy: \n",
      "NOUN     28632\n",
      "PUNCT    24989\n",
      "VERB     22550\n",
      "DET      18175\n",
      "PRON     15425\n",
      "ADP      13201\n",
      "ADV      12661\n",
      "AUX      11543\n",
      "ADJ      11245\n",
      "PROPN     6243\n",
      "PART      5591\n",
      "CCONJ     5489\n",
      "SCONJ     4077\n",
      "NUM       2338\n",
      "SPACE     2208\n",
      "INTJ      1589\n",
      "SYM       1036\n",
      "X          558\n",
      "Name: Token_Pos, dtype: int64\n"
     ]
    }
   ],
   "source": [
    "print(f\"\"\"Liczba unikatowych  Tokenów: {doc_after_df_token[\"Token\"].nunique()},\\n\n",
    "Liczba unikatowych Lematów: {doc_after_df_token[\"Lemma\"].nunique()},\\n\n",
    "Logiczba uniogkatowych  Nazw własnych: {doc_after_ent_table[\"Entity\"].nunique()},\\n\n",
    "Liczba unikatowych  Chunków: {doc_after_chunk_table[\"Chunk\"].nunique()},\\n\n",
    "Liczba Części mowy: \n",
    "{doc_after_df_token[\"Token_Pos\"].value_counts()}\"\"\")"
   ]
  },
  {
   "cell_type": "code",
   "execution_count": null,
   "metadata": {
    "id": "XS6ZrEpRgsn2"
   },
   "outputs": [],
   "source": []
  }
 ],
 "metadata": {
  "colab": {
   "collapsed_sections": [],
   "name": "Project.ipynb",
   "provenance": []
  },
  "kernelspec": {
   "display_name": "Python 3",
   "language": "python",
   "name": "python3"
  },
  "language_info": {
   "codemirror_mode": {
    "name": "ipython",
    "version": 3
   },
   "file_extension": ".py",
   "mimetype": "text/x-python",
   "name": "python",
   "nbconvert_exporter": "python",
   "pygments_lexer": "ipython3",
   "version": "3.8.5"
  }
 },
 "nbformat": 4,
 "nbformat_minor": 4
}
